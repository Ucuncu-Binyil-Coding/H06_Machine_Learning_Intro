{
 "cells": [
  {
   "cell_type": "markdown",
   "metadata": {},
   "source": [
    "XGBoost has various boosting algorithms for optimization.\n",
    "\n",
    "- Cat categorical\n",
    "- Light for small size data"
   ]
  },
  {
   "cell_type": "code",
   "execution_count": null,
   "metadata": {},
   "outputs": [],
   "source": [
    "import pandas as pd\n",
    "from xgboost import XGBRegressor\n",
    "from sklearn.model_selection import train_test_split\n",
    "from sklearn.metrics import mean_absolute_error,root_mean_squared_error"
   ]
  },
  {
   "cell_type": "code",
   "execution_count": null,
   "metadata": {},
   "outputs": [],
   "source": [
    "df = pd.read_csv(\"melb_data.csv\")\n",
    "df = df.dropna()\n",
    "df.columns"
   ]
  },
  {
   "cell_type": "code",
   "execution_count": null,
   "metadata": {},
   "outputs": [],
   "source": [
    "X_cols = [\"Rooms\",\"Distance\",\"Landsize\",\"BuildingArea\",\"YearBuilt\"]\n",
    "X = df[X_cols]\n",
    "Y = df[\"Price\"]\n",
    "X_train, X_test, Y_train, Y_test = train_test_split(X,Y,random_state=0)\n"
   ]
  },
  {
   "cell_type": "code",
   "execution_count": null,
   "metadata": {},
   "outputs": [],
   "source": [
    "model = XGBRegressor(n_estimators = 500\n",
    "                     ,early_stopping_rounds = 5\n",
    "                     ,learning_rate = 0.05)\n",
    "                    #  ,n_jobs = 8)\n",
    "model.fit(X_train,Y_train, verbose = 2,eval_set=[(X_test, Y_test)]) "
   ]
  },
  {
   "cell_type": "code",
   "execution_count": null,
   "metadata": {},
   "outputs": [],
   "source": [
    "predictions = model.predict(X_test)\n",
    "mean_absolute_error(Y_test,predictions)"
   ]
  },
  {
   "cell_type": "code",
   "execution_count": null,
   "metadata": {},
   "outputs": [],
   "source": [
    "def train_predict(X_train, X_test, Y_train, Y_test,n=100):\n",
    "    model = XGBRegressor(n_estimators = n)\n",
    "    model.fit(X_train,Y_train,verbose=2)\n",
    "    predictions = model.predict(X_test)\n",
    "    return root_mean_squared_error(Y_test,predictions)"
   ]
  },
  {
   "cell_type": "code",
   "execution_count": null,
   "metadata": {},
   "outputs": [],
   "source": [
    "errors = []\n",
    "for n in range(1,200,1):\n",
    "    errors.append(train_predict(X_train, X_test, Y_train, Y_test,n=n))"
   ]
  },
  {
   "cell_type": "code",
   "execution_count": null,
   "metadata": {},
   "outputs": [],
   "source": [
    "import matplotlib.pyplot as plt\n",
    "min_loss = min(errors)\n",
    "print(errors.index(min_loss))\n",
    "\n",
    "error_frame = pd.DataFrame(errors)\n",
    "plt.plot(error_frame.iloc[20:])"
   ]
  }
 ],
 "metadata": {
  "kernelspec": {
   "display_name": ".venv",
   "language": "python",
   "name": "python3"
  },
  "language_info": {
   "codemirror_mode": {
    "name": "ipython",
    "version": 3
   },
   "file_extension": ".py",
   "mimetype": "text/x-python",
   "name": "python",
   "nbconvert_exporter": "python",
   "pygments_lexer": "ipython3",
   "version": "3.12.1"
  }
 },
 "nbformat": 4,
 "nbformat_minor": 2
}
