{
 "cells": [
  {
   "cell_type": "markdown",
   "metadata": {},
   "source": [
    "Anlaşılır ekonomi\n",
    "\n",
    "\n",
    "Giriş\n",
    "\n",
    "Pipelinei veri ön işleme ve modelleme kodunuzu üzenli tutmanın basir bir yoludur.\n",
    "Özellikle bir pipeline yü paketi tek bit adımmın gibi kullanbilmemiz için ön işleme ve modeleme adımlarını bir arya getirir.\n",
    "\n",
    "Bir çok veri bilimi pipene olmadan modelleri bir araya getirir ancak pipelineların bazı\n",
    "\n",
    "\n",
    "\n",
    "Model doğrulaması için  daha fazla deçenek bir sonraki eğimide çapraz doğrulamayı ele alan bir önrke göreceğiz."
   ]
  },
  {
   "cell_type": "code",
   "execution_count": 3,
   "metadata": {},
   "outputs": [],
   "source": [
    "from sklearn.metrics import mean_absolute_error\n",
    "from sklearn.tree import DecisionTreeRegressor\n",
    "from sklearn.model_selection import train_test_split\n",
    "import pandas as pd\n"
   ]
  },
  {
   "cell_type": "code",
   "execution_count": 6,
   "metadata": {},
   "outputs": [],
   "source": [
    "df = pd.read_csv(\"melb_data.csv\")\n",
    "X = df.drop(['Price'],axis=1)\n",
    "y = df[\"Price\"]\n",
    "train_X, test_X, train_y, test_y = train_test_split(X,y,train_size=0.8,random_state=0)"
   ]
  },
  {
   "cell_type": "code",
   "execution_count": null,
   "metadata": {},
   "outputs": [
    {
     "data": {
      "text/plain": [
       "[]"
      ]
     },
     "execution_count": 24,
     "metadata": {},
     "output_type": "execute_result"
    }
   ],
   "source": [
    "categorical_cols = [col for col in train_X.columns if train_X[col].nunique() < 10 and train_X[col].dtype == \"Object\" ]\n",
    "numerical_cols = [col for col in train_X.columns if train_X[col].dtype in [\"int64\",\"float64\"]]"
   ]
  },
  {
   "cell_type": "code",
   "execution_count": 16,
   "metadata": {},
   "outputs": [],
   "source": [
    "from sklearn.compose import ColumnTransformer\n",
    "from sklearn.pipeline import Pipeline\n",
    "from sklearn.impute import SimpleImputer # eksik veriler için\n",
    "from sklearn.preprocessing import MinMaxScaler,StandardScaler,OneHotEncoder"
   ]
  },
  {
   "cell_type": "code",
   "execution_count": 17,
   "metadata": {},
   "outputs": [],
   "source": [
    "numerical_tranformers = SimpleImputer(strategy=\"constant\")\n",
    "categorical_transformer = Pipeline(steps=[\n",
    "    (\"imputer\", SimpleImputer(strategy=\"most_frequent\")),\n",
    "    (\"onehot\",OneHotEncoder(handle_unknown=\"ignore\"))\n",
    "])\n",
    "\n",
    "preprocessor = ColumnTransformer(\n",
    "    transformers = [\n",
    "        (\"num\",numerical_tranformers,numerical_cols),\n",
    "        (\"cat\",categorical_transformer,categorical_cols)\n",
    "    ]\n",
    ")"
   ]
  },
  {
   "cell_type": "code",
   "execution_count": 19,
   "metadata": {},
   "outputs": [
    {
     "name": "stdout",
     "output_type": "stream",
     "text": [
      "Score: 169829.65314783645\n"
     ]
    }
   ],
   "source": [
    "from sklearn.ensemble import RandomForestRegressor\n",
    "model = RandomForestRegressor(n_estimators=100,random_state=0)\n",
    "\n",
    "my_pipeline = Pipeline(steps=[\n",
    "    (\"preprocessor\",preprocessor),\n",
    "    (\"model\",model)\n",
    "])\n",
    "\n",
    "my_pipeline.fit(train_X,train_y)\n",
    "predictions = my_pipeline.predict(test_X)\n",
    "score = mean_absolute_error(test_y,predictions)\n",
    "print(f\"Score: {score}\")"
   ]
  }
 ],
 "metadata": {
  "kernelspec": {
   "display_name": ".venv",
   "language": "python",
   "name": "python3"
  },
  "language_info": {
   "codemirror_mode": {
    "name": "ipython",
    "version": 3
   },
   "file_extension": ".py",
   "mimetype": "text/x-python",
   "name": "python",
   "nbconvert_exporter": "python",
   "pygments_lexer": "ipython3",
   "version": "3.12.1"
  }
 },
 "nbformat": 4,
 "nbformat_minor": 2
}
